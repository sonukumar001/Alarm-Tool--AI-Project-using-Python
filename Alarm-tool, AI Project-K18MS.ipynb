{
 "cells": [
  {
   "cell_type": "code",
   "execution_count": 1,
   "metadata": {},
   "outputs": [
    {
     "name": "stdout",
     "output_type": "stream",
     "text": [
      "==================================================================================================================\n",
      "\n",
      "                                   --:   WELCOME TO ALARM TOOL SYSTEM   :--                                        \n",
      "\n",
      "==================================================================================================================\n",
      "Hello there! Set an Alarm \n",
      "\n",
      "Set a time for the alarm (Ex. 10:30)\n",
      "\n",
      " >> 20:05\n",
      "\n",
      "The Alarm set to travel off in 0:00:16\n",
      "\n",
      "Wake Up! Wake Up!\n"
     ]
    },
    {
     "data": {
      "text/plain": [
       "True"
      ]
     },
     "execution_count": 1,
     "metadata": {},
     "output_type": "execute_result"
    }
   ],
   "source": [
    "import datetime\n",
    "import os\n",
    "import time\n",
    "import random\n",
    "import webbrowser\n",
    "\n",
    "print(\"==================================================================================================================\")\n",
    "print()\n",
    "print(\"                                   --:   WELCOME TO ALARM TOOL SYSTEM   :--                                        \")\n",
    "print()\n",
    "print(\"==================================================================================================================\")\n",
    "print(\"Hello there! Set an Alarm \\n\")\n",
    "\n",
    "# If the video URL file doesn't exist, creates one\n",
    "if not os.path.isfile(\"youtube_alarm_videos.txt\"):\n",
    "\tprint('Creating \"youtube_alarm_videos.txt\"...')\n",
    "\twith open(\"youtube_alarm_videos.txt\", \"w\") as alarm_file:\n",
    "\t\talarm_file.write(\"https://youtu.be/yr-NhH3peLE\")\n",
    "\n",
    "def check_alarm_input(alarm_time):\n",
    "\t\"\"\"Check to see if the user has entered during a legitimate alarm time*\"\"\"\n",
    "\tif len(alarm_time) == 1: # [Hour] Format.\n",
    "\t\tif alarm_time[0] < 24 and alarm_time[0] >= 0:\n",
    "\t\t\treturn True\n",
    "\tif len(alarm_time) == 2: # [Hour:Minute] Format.\n",
    "\t\tif alarm_time[0] < 24 and alarm_time[0] >= 0 and \\\n",
    "\t\t   alarm_time[1] < 60 and alarm_time[1] >= 0:\n",
    "\t\t\treturn True\n",
    "\treturn False\n",
    "\n",
    "# Get the user input for the alarm time\n",
    "print(\"Set a time for the alarm (Ex. 10:30)\")\n",
    "while True:\n",
    "\talarm_input = input(\"\\n >> \")\n",
    "\ttry:\n",
    "\t\talarm_time = [int(n) for n in alarm_input.split(\":\")]\n",
    "\t\tif check_alarm_input(alarm_time):\n",
    "\t\t\tbreak\n",
    "\t\telse:\n",
    "\t\t\traise ValueError\n",
    "\texcept ValueError:\n",
    "\t\tprint(\">> ERROR : Please Enter time in HH:MM or HH:MM:SS format only <<\")\n",
    "\n",
    "# Convert alarm time from [H:M] or [H:M:S] to seconds\n",
    "seconds_hms = [3600, 60, 1] # No. of seconds in an Hour, Minute, and Second\n",
    "alarm_seconds = sum([a*b for a,b in zip(seconds_hms[:len(alarm_time)], alarm_time)])\n",
    "\n",
    "# Get this time of the day in seconds\n",
    "now = datetime.datetime.now()\n",
    "current_time_seconds = sum([a*b for a,b in zip(seconds_hms, [now.hour, now.minute, now.second])])\n",
    "\n",
    "# Calculate the number of seconds until alarm burst\n",
    "time_diff_seconds = alarm_seconds - current_time_seconds\n",
    "\n",
    "\n",
    "if time_diff_seconds < 0:\n",
    "\ttime_diff_seconds += 86400 # number of seconds during on a daily basis\n",
    "\n",
    "# Display the number of some time until the alarm burst\n",
    "print(\"\\nThe Alarm set to travel off in %s\" % datetime.timedelta(seconds=time_diff_seconds))\n",
    "\n",
    "# Sleep until the alarm burst\n",
    "time.sleep(time_diff_seconds)\n",
    "\n",
    "# Time for the alarm to travel off\n",
    "print(\"\\nWake Up! Wake Up!\")\n",
    "\n",
    "# Load list of possible video URLs\n",
    "with open(\"youtube_alarm_videos.txt\", \"r\") as alarm_file:\n",
    "\tvideos = alarm_file.readlines()\n",
    "\n",
    "# Open a random video from the list\n",
    "webbrowser.open(random.choice(videos))"
   ]
  },
  {
   "cell_type": "code",
   "execution_count": null,
   "metadata": {},
   "outputs": [],
   "source": []
  },
  {
   "cell_type": "code",
   "execution_count": null,
   "metadata": {},
   "outputs": [],
   "source": []
  }
 ],
 "metadata": {
  "kernelspec": {
   "display_name": "Python 3",
   "language": "python",
   "name": "python3"
  },
  "language_info": {
   "codemirror_mode": {
    "name": "ipython",
    "version": 3
   },
   "file_extension": ".py",
   "mimetype": "text/x-python",
   "name": "python",
   "nbconvert_exporter": "python",
   "pygments_lexer": "ipython3",
   "version": "3.7.3"
  }
 },
 "nbformat": 4,
 "nbformat_minor": 2
}
